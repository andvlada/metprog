{
 "cells": [
  {
   "cell_type": "code",
   "execution_count": 1,
   "metadata": {},
   "outputs": [],
   "source": [
    "import time\n",
    "import random"
   ]
  },
  {
   "cell_type": "code",
   "execution_count": 2,
   "metadata": {},
   "outputs": [],
   "source": [
    "class Singleton():\n",
    "    \"\"\" Метакласс для паттерна Singletone \"\"\"\n",
    "    _UnigueInstance = {}\n",
    "    def __new__(cls, *args, **kwargs):\n",
    "        \"\"\" При создании нового экземпляра класса:\n",
    "        если экземляр класса cls еще не инициализирован, то инициализировать\n",
    "        и записать в _UnigueInstance. Иначе вернуть экземпляр из _UnigueInstance.\n",
    "        Возвращает адрес памяти экзмепляра \"\"\"\n",
    "        if cls not in cls._UnigueInstance:\n",
    "            cls._UnigueInstance[cls] = super(Singleton, cls).__new__(cls, *args, **kwargs)\n",
    "        return cls._UnigueInstance[cls]\n"
   ]
  },
  {
   "cell_type": "code",
   "execution_count": 3,
   "metadata": {},
   "outputs": [],
   "source": [
    "class Events(Singleton):\n",
    "    \"\"\" Класс, протоколирующий события в системе \"\"\"\n",
    "    def __init__(self):\n",
    "        \"\"\" Конструктор: пустой лист \"\"\"\n",
    "        self._list_of_events = []\n",
    "        \n",
    "    @property\n",
    "    def events(self):\n",
    "        \"\"\" Возвращает список событий, сохраненных системой \"\"\"\n",
    "        return self._list_of_events\n",
    "    \n",
    "    def add(self, k):\n",
    "        \"\"\" Определяет, какое событие (по важности) произошло, и отправляет его соответствующим методам \n",
    "        k -- код события\n",
    "        тип k -- int \"\"\"\n",
    "        if k == 0:\n",
    "            self.__normal('Everything is okay')\n",
    "        elif k == 1:\n",
    "            self.__warning('Probably you should recheck')\n",
    "        elif k == 2:\n",
    "            self.__error('OKAY, IT IS TIME TO WORRY')    \n",
    "        \n",
    "    def __normal(self, text):\n",
    "        \"\"\" Фиксирует в системе (добавляет в общий список) нормальное событие\n",
    "        text -- текстовое сообщение\n",
    "        тип text -- str \"\"\"\n",
    "        self.events.append((time.time(), 'normal', text))\n",
    "    def __warning(self, text):\n",
    "        \"\"\" Фиксирует в системе (добавляет в общий список) замечание\n",
    "        text -- текстовое сообщение\n",
    "        тип text -- str \"\"\"\n",
    "        self.events.append((time.time(), 'warning', text))\n",
    "    def __error(self, text):\n",
    "        \"\"\" Фиксирует в системе (добавляет в общий список) ошибку\n",
    "        text -- текстовое сообщение\n",
    "        тип text -- str \"\"\"\n",
    "        self.events.append((time.time(), 'error', text))\n",
    "        \n",
    "    def print10(self):\n",
    "        \"\"\" Выводит на печать последние 10 событий \"\"\"\n",
    "        for event in self._list_of_events[-10:]:\n",
    "            print('{data} was an event with the level of importance: [{level}] and the comment: [{comment}]'.format(data = time.strftime('%H:%M:%S %d %b %Y', time.localtime(event[0])), level = event[1], comment = event[2]))\n",
    "    "
   ]
  },
  {
   "cell_type": "code",
   "execution_count": 4,
   "metadata": {},
   "outputs": [
    {
     "name": "stdout",
     "output_type": "stream",
     "text": [
      "06:48:14 27 May 2020 was an event with the level of importance: [warning] and the comment: [Probably you should recheck]\n",
      "06:48:15 27 May 2020 was an event with the level of importance: [normal] and the comment: [Everything is okay]\n",
      "06:48:15 27 May 2020 was an event with the level of importance: [error] and the comment: [OKAY, IT IS TIME TO WORRY]\n",
      "06:48:16 27 May 2020 was an event with the level of importance: [warning] and the comment: [Probably you should recheck]\n",
      "06:48:17 27 May 2020 was an event with the level of importance: [warning] and the comment: [Probably you should recheck]\n",
      "06:48:18 27 May 2020 was an event with the level of importance: [error] and the comment: [OKAY, IT IS TIME TO WORRY]\n",
      "06:48:19 27 May 2020 was an event with the level of importance: [error] and the comment: [OKAY, IT IS TIME TO WORRY]\n",
      "06:48:21 27 May 2020 was an event with the level of importance: [normal] and the comment: [Everything is okay]\n",
      "06:48:21 27 May 2020 was an event with the level of importance: [error] and the comment: [OKAY, IT IS TIME TO WORRY]\n",
      "06:48:23 27 May 2020 was an event with the level of importance: [error] and the comment: [OKAY, IT IS TIME TO WORRY]\n"
     ]
    }
   ],
   "source": [
    "a = Events()\n",
    "for i in range(34):\n",
    "    x = (random.randint(0, 100)) % 3\n",
    "    a.add(x)\n",
    "    time.sleep(x*0.8) #для красоты вывода\n",
    "a.print10()"
   ]
  },
  {
   "cell_type": "code",
   "execution_count": 5,
   "metadata": {},
   "outputs": [
    {
     "name": "stdout",
     "output_type": "stream",
     "text": [
      "YAAAAAY\n"
     ]
    }
   ],
   "source": [
    "#проверила, что Singleton написан верно\n",
    "b = Events()\n",
    "if a == b: print('YAAAAAY')\n",
    "else: print(\"that's too sad :c\")"
   ]
  },
  {
   "cell_type": "code",
   "execution_count": null,
   "metadata": {},
   "outputs": [],
   "source": []
  }
 ],
 "metadata": {
  "kernelspec": {
   "display_name": "Python 3",
   "language": "python",
   "name": "python3"
  },
  "language_info": {
   "codemirror_mode": {
    "name": "ipython",
    "version": 3
   },
   "file_extension": ".py",
   "mimetype": "text/x-python",
   "name": "python",
   "nbconvert_exporter": "python",
   "pygments_lexer": "ipython3",
   "version": "3.7.3"
  }
 },
 "nbformat": 4,
 "nbformat_minor": 2
}
