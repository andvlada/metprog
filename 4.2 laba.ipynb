{
 "cells": [
  {
   "cell_type": "code",
   "execution_count": 1,
   "metadata": {},
   "outputs": [],
   "source": [
    "from time import time, localtime\n",
    "from scipy import stats\n",
    "import numpy as np\n",
    "import matplotlib.pyplot as plt"
   ]
  },
  {
   "cell_type": "code",
   "execution_count": 2,
   "metadata": {},
   "outputs": [],
   "source": [
    "#2^17 = 131 072, а x mod 131 072 лежит в диапазоне 0..131 071\n",
    "\n",
    "def fibb(N, first, second):\n",
    "    \"\"\" \n",
    "    Реализация ГПСЧ: f[i]=(f[i-a]+f[i-b]) mod M\n",
    "    Возвращает набор псевдослучайных чисел\n",
    "    N -- количество чисел в наборе\n",
    "    тип N -- int\n",
    "    first -- число, от которого начинается генерация\n",
    "    тип first -- int\n",
    "    second -- число, от которого начинается генерация\n",
    "    тип second -- int\n",
    "    \"\"\"\n",
    "    M = 2**17\n",
    "    a = 13\n",
    "    b = 34\n",
    "    final = []\n",
    "    final.append((first + second) % M)\n",
    "    final.append((second + final[0]) % M)\n",
    "    for i in range(2, a):\n",
    "        final.append((final[i-1]+final[i-2]) % M)\n",
    "    for i in range(a, b):\n",
    "        final.append((final[i-a]+final[i-2]) % M)\n",
    "    for i in range(b, N):\n",
    "        final.append((final[i-a]+final[i-b]) % M)\n",
    "    return final"
   ]
  },
  {
   "cell_type": "code",
   "execution_count": 3,
   "metadata": {},
   "outputs": [],
   "source": [
    "def kongr(N, first, second):\n",
    "    \"\"\"\n",
    "    Реализация ГПСЧ: f[i]=(f[i-1] mod M1 + f[i-2] mod M2) mod M3\n",
    "    Возвращает набор псевдослучайных чисел\n",
    "    N -- количество чисел в наборе\n",
    "    тип N -- int\n",
    "    first -- число, от которого начинается генерация\n",
    "    тип first -- int\n",
    "    second -- число, от которого начинается генерация\n",
    "    тип second -- int \n",
    "    \"\"\"\n",
    "    M1 = 2**15\n",
    "    M2 = 3**15\n",
    "    M3 = 2**17\n",
    "    final = []\n",
    "    final.append((second % M1 + first % M2) % M3)\n",
    "    final.append((final[0] % M1 + second % M2) % M3)\n",
    "    for i in range(2, N):\n",
    "        final.append((final[i-1] % M1 + final[i-2] % M2) % M3)\n",
    "    return final"
   ]
  },
  {
   "cell_type": "code",
   "execution_count": 4,
   "metadata": {},
   "outputs": [],
   "source": [
    "def middle(v):\n",
    "    \"\"\" \n",
    "    Возвращает выборочное среднее набора чисел\n",
    "    v -- набор чисел \n",
    "    тип v -- list\n",
    "    \"\"\"\n",
    "    return sum(v)/len(v)\n",
    "\n",
    "def dis(v, mid):\n",
    "    \"\"\" \n",
    "    Возвращает стандартное отклонение набора чисел\n",
    "    v -- набор чисел \n",
    "    тип v -- list \n",
    "    mid -- выборочное среднее набора\n",
    "    тип mid -- float \n",
    "    \"\"\"\n",
    "    summ = 0\n",
    "    for i in range(len(v)):\n",
    "        summ += (v[i] - mid)**2\n",
    "    return (summ/(len(v)-1))**0.5"
   ]
  },
  {
   "cell_type": "code",
   "execution_count": 5,
   "metadata": {},
   "outputs": [],
   "source": [
    "n = 10\n",
    "N = 500\n",
    "fibblist, kongrlist, fibbmiddle, kongrmiddle, fibbdis, kongrdis, fibbcov, kongrcov = [], [], [], [], [], [], [], []\n",
    "for i in range(n):\n",
    "    \"\"\" \n",
    "    Генерация 10 выборок ГПСЧ fibb объемом 500 элементов каждая, подсчет выборочного среднего, \n",
    "    стандартного отклонения и коэффициента вариации каждой из них \n",
    "    \"\"\"\n",
    "    fibblist.append(fibb(N, int(time()//(i+3)-(-1)**(i+10)*i**i), localtime().tm_sec+i**(i+1)))\n",
    "    fibbmiddle.append(round(middle(fibblist[i]), 2))\n",
    "    fibbdis.append(round(dis(fibblist[i], fibbmiddle[i]), 2))\n",
    "    fibbcov.append(round(100 * fibbdis[i]/fibbmiddle[i], 2))\n",
    "for i in range(n):\n",
    "    \"\"\" \n",
    "    Генерация 10 выборок ГПСЧ kongr объемом 500 элементов каждая, подсчет выборочного среднего, \n",
    "    стандартного отклонения и коэффициента вариации каждой из них \n",
    "    \"\"\"\n",
    "    kongrlist.append(kongr(N, localtime().tm_sec+i**(i+1), int(time()//(i+2)-(-1)**(i+13)*i)))\n",
    "    kongrmiddle.append(round(middle(kongrlist[i]), 2))\n",
    "    kongrdis.append(round(dis(kongrlist[i], kongrmiddle[i]), 2))\n",
    "    kongrcov.append(round(100 * kongrdis[i]/kongrmiddle[i], 2))"
   ]
  },
  {
   "cell_type": "code",
   "execution_count": 6,
   "metadata": {},
   "outputs": [
    {
     "name": "stdout",
     "output_type": "stream",
     "text": [
      "Так как элементы выборки принимают значения от 0 до 131 071, то ГСЧ должен выдавать такие выборки, для которых:\n",
      "    Выборочное среднее примерно равно 0.5 * 131072 = 65536 \n",
      "    Стандартное отклонение примерно равно 0.2887 * 131072 = 37840\n",
      "\n",
      "    Информация о выборках, сгенерированных алгоритмом fibb:\n",
      "Выборочное среднее: [65259.04, 67011.31, 66304.82, 63555.91, 67935.71, 66832.2, 65739.85, 61312.25, 62445.22, 66901.58]\n",
      "Стандартное отклонение: [38114.41, 37555.42, 38389.16, 38059.55, 37228.23, 38803.25, 38267.2, 37673.66, 38222.53, 39269.07]\n",
      "Коэффициент вариации: [58.4, 56.04, 57.9, 59.88, 54.8, 58.06, 58.21, 61.45, 61.21, 58.7]\n",
      "\n",
      "    Информация о выборках, сгенерированных алгоритмом kongr:\n",
      "Выборочное среднее: [68031.64, 65754.21, 65656.01, 66195.92, 63622.48, 65923.73, 64341.34, 65551.87, 66717.16, 65311.18]\n",
      "Стандартное отклонение: [37809.41, 36866.48, 37930.62, 38328.28, 37385.8, 37722.43, 37533.15, 38972.33, 38464.66, 37987.31]\n",
      "Коэффициент вариации: [55.58, 56.07, 57.77, 57.9, 58.76, 57.22, 58.33, 59.45, 57.65, 58.16]\n"
     ]
    }
   ],
   "source": [
    "print(\"Так как элементы выборки принимают значения от 0 до 131 071, то ГСЧ должен выдавать такие выборки, для которых:\\n    Выборочное среднее примерно равно 0.5 * 131072 =\", round(0.5*131072), '\\n    Стандартное отклонение примерно равно 0.2887 * 131072 =', round(0.2887 * 131072) )\n",
    "\n",
    "print(\"\\n    Информация о выборках, сгенерированных алгоритмом fibb:\")\n",
    "print(\"Выборочное среднее:\", fibbmiddle)\n",
    "print(\"Стандартное отклонение:\", fibbdis)\n",
    "print(\"Коэффициент вариации:\", fibbcov)\n",
    "\n",
    "print(\"\\n    Информация о выборках, сгенерированных алгоритмом kongr:\")\n",
    "print(\"Выборочное среднее:\", kongrmiddle)\n",
    "print(\"Стандартное отклонение:\", kongrdis)\n",
    "print(\"Коэффициент вариации:\", kongrcov)"
   ]
  },
  {
   "cell_type": "code",
   "execution_count": 19,
   "metadata": {},
   "outputs": [
    {
     "name": "stdout",
     "output_type": "stream",
     "text": [
      "   Теоретически:\n",
      "xi^2 = 494.3773 для m = 499, a = 0.45\n",
      "xi^2 = 498.3335 для m = 499, a = 0.5\n",
      "\n",
      "xi^2 = 497.3335 для m = 498, a = 0.5\n",
      "xi^2 = 501.3067 для m = 498, a = 0.55\n",
      "\n",
      "xi^2 = 496.3335 для m = 497, a = 0.5\n",
      "xi^2 = 500.3027 для m = 497, a = 0.55\n",
      "\n",
      "xi^2 = 495.3335 для m = 496, a = 0.5\n",
      "xi^2 = 499.2988 для m = 496, a = 0.55\n",
      "\n",
      "xi^2 = 497.2908 для m = 494, a = 0.55\n",
      "xi^2 = 501.3334 для m = 494, a = 0.6\n",
      "\n",
      "xi^2 = 496.2868 для m = 493, a = 0.55\n",
      "xi^2 = 500.3253 для m = 493, a = 0.6\n",
      "\n",
      "xi^2 = 497.3011 для m = 490, a = 0.6\n",
      "xi^2 = 501.4855 для m = 490, a = 0.65\n",
      "\n",
      "xi^2 = 495.2848 для m = 488, a = 0.6\n",
      "xi^2 = 499.4609 для m = 488, a = 0.65\n"
     ]
    }
   ],
   "source": [
    "print(\"   Теоретически:\\nxi^2 =\", round(stats.chi2.ppf(q=0.45, df=499), 4), \"для m = 499, a = 0.45\")\n",
    "print(\"xi^2 =\", round(stats.chi2.ppf(q=0.5, df=499), 4), \"для m = 499, a = 0.5\")\n",
    "print(\"\\nxi^2 =\", round(stats.chi2.ppf(q=0.5, df=498), 4), \"для m = 498, a = 0.5\")\n",
    "print(\"xi^2 =\", round(stats.chi2.ppf(q=0.55, df=498), 4), \"для m = 498, a = 0.55\")\n",
    "print(\"\\nxi^2 =\", round(stats.chi2.ppf(q=0.5, df=497), 4), \"для m = 497, a = 0.5\")\n",
    "print(\"xi^2 =\", round(stats.chi2.ppf(q=0.55, df=497), 4), \"для m = 497, a = 0.55\")\n",
    "print(\"\\nxi^2 =\", round(stats.chi2.ppf(q=0.5, df=496), 4), \"для m = 496, a = 0.5\")\n",
    "print(\"xi^2 =\", round(stats.chi2.ppf(q=0.55, df=496), 4), \"для m = 496, a = 0.55\")\n",
    "print(\"\\nxi^2 =\", round(stats.chi2.ppf(q=0.55, df=494), 4), \"для m = 494, a = 0.55\")\n",
    "print(\"xi^2 =\", round(stats.chi2.ppf(q=0.6, df=494), 4), \"для m = 494, a = 0.6\")\n",
    "print(\"\\nxi^2 =\", round(stats.chi2.ppf(q=0.55, df=493), 4), \"для m = 493, a = 0.55\")\n",
    "print(\"xi^2 =\", round(stats.chi2.ppf(q=0.6, df=493), 4), \"для m = 493, a = 0.6\")\n",
    "print(\"\\nxi^2 =\", round(stats.chi2.ppf(q=0.6, df=490), 4), \"для m = 490, a = 0.6\")\n",
    "print(\"xi^2 =\", round(stats.chi2.ppf(q=0.65, df=490), 4), \"для m = 490, a = 0.65\")\n",
    "print(\"\\nxi^2 =\", round(stats.chi2.ppf(q=0.6, df=488), 4), \"для m = 488, a = 0.6\")\n",
    "print(\"xi^2 =\", round(stats.chi2.ppf(q=0.65, df=488), 4), \"для m = 488, a = 0.65\")"
   ]
  },
  {
   "cell_type": "code",
   "execution_count": 8,
   "metadata": {},
   "outputs": [
    {
     "name": "stdout",
     "output_type": "stream",
     "text": [
      "\n",
      "    Для выборок, сгенерированных алгоритмом fibb:\n",
      "xi^2 = 498.002 при m = 498\n",
      "xi^2 = 498.002 при m = 499\n",
      "xi^2 = 498.002 при m = 497\n",
      "xi^2 = 498.002 при m = 497\n",
      "xi^2 = 498.002 при m = 498\n",
      "xi^2 = 498.002 при m = 499\n",
      "xi^2 = 498.002 при m = 496\n",
      "xi^2 = 498.002 при m = 497\n",
      "xi^2 = 498.002 при m = 499\n",
      "xi^2 = 498.002 при m = 498\n",
      "\n",
      "    Для выборок, сгенерированных алгоритмом kongr:\n",
      "xi^2 = 498.002 при m = 497\n",
      "xi^2 = 498.002 при m = 497\n",
      "xi^2 = 498.002 при m = 497\n",
      "xi^2 = 498.002 при m = 494\n",
      "xi^2 = 498.002 при m = 493\n",
      "xi^2 = 498.002 при m = 499\n",
      "xi^2 = 498.002 при m = 499\n",
      "xi^2 = 498.002 при m = 493\n",
      "xi^2 = 498.002 при m = 490\n",
      "xi^2 = 498.002 при m = 488\n"
     ]
    }
   ],
   "source": [
    "\"\"\" \n",
    "Проверка равномерности распределение и случайности критерием хи-квадрат\n",
    "\"\"\"\n",
    "print(\"\\n    Для выборок, сгенерированных алгоритмом fibb:\")\n",
    "for i in range(n):\n",
    "    xi = 0\n",
    "    sample = fibblist[i]\n",
    "    unique = list(set(sample))\n",
    "    prob = 1/len(unique)\n",
    "    for j in range(len(unique)):\n",
    "        xi += (sample.count(unique[j])/len(sample) - len(sample)*prob)**2/(len(sample)*prob)\n",
    "    print(\"xi^2 =\", round(xi, 4), \"при m =\", len(unique) - 1)\n",
    "\n",
    "print(\"\\n    Для выборок, сгенерированных алгоритмом kongr:\")\n",
    "for i in range(n):\n",
    "    xi = 0\n",
    "    sample = kongrlist[i]\n",
    "    unique = list(set(sample))\n",
    "    prob = 1/len(unique)\n",
    "    for j in range(len(unique)):\n",
    "        xi += (sample.count(unique[j])/len(sample)\n",
    "               - len(sample)*prob)**2/(len(sample)*prob)\n",
    "    print(\"xi^2 =\", round(xi, 4), \"при m =\", len(unique) - 1)\n",
    "    \n",
    "#значит, гипотеза о случайности выполняется с вероятностью, близкой к 0.5"
   ]
  },
  {
   "cell_type": "code",
   "execution_count": 9,
   "metadata": {},
   "outputs": [
    {
     "data": {
      "text/plain": [
       "[]"
      ]
     },
     "execution_count": 9,
     "metadata": {},
     "output_type": "execute_result"
    },
    {
     "data": {
      "image/png": "[encoded data removed]",
      "text/plain": [
       "<Figure size 1440x720 with 1 Axes>"
      ]
     },
     "metadata": {
      "needs_background": "light"
     },
     "output_type": "display_data"
    }
   ],
   "source": [
    "sizes = [1000, 5000, 10000, 50000, 100000, 500000, 1000000]\n",
    "fibb_time, kongr_time, rand_time = [], [], []\n",
    "\n",
    "\"\"\" \n",
    "Засекаем время генерации чисел, используя fibb, kongr и встроенный random \n",
    "\"\"\"\n",
    "for i in sizes:\n",
    "    tic = time()\n",
    "    fibb(i, 13271, 397)\n",
    "    toc = time()\n",
    "    fibb_time.append(toc-tic)\n",
    "    \n",
    "    tic = time()\n",
    "    kongr(i, 13271, 397)\n",
    "    toc = time()\n",
    "    kongr_time.append(toc-tic)\n",
    "    \n",
    "    tic = time()\n",
    "    np.random.randint(0, 131071, i)\n",
    "    toc = time()\n",
    "    rand_time.append(toc-tic)\n",
    "    \n",
    "\"\"\" \n",
    "Построение графиков зависимости времени генерации чисел от объема получаемых наборов \n",
    "\"\"\"\n",
    "fig, ax = plt.subplots(figsize=(20, 10))\n",
    "ax.plot(sizes, fibb_time, label = 'fibb')\n",
    "ax.plot(sizes, kongr_time, label = 'kongr')\n",
    "ax.plot(sizes, rand_time, label = 'random')\n",
    "ax.legend()\n",
    "ax.set_title('PRNG working time')\n",
    "ax.plot()"
   ]
  },
  {
   "cell_type": "code",
   "execution_count": null,
   "metadata": {},
   "outputs": [],
   "source": []
  }
 ],
 "metadata": {
  "kernelspec": {
   "display_name": "Python 3",
   "language": "python",
   "name": "python3"
  },
  "language_info": {
   "codemirror_mode": {
    "name": "ipython",
    "version": 3
   },
   "file_extension": ".py",
   "mimetype": "text/x-python",
   "name": "python",
   "nbconvert_exporter": "python",
   "pygments_lexer": "ipython3",
   "version": "3.7.3"
  }
 },
 "nbformat": 4,
 "nbformat_minor": 2
}
