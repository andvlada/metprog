{
 "cells": [
  {
   "cell_type": "code",
   "execution_count": 1,
   "metadata": {},
   "outputs": [],
   "source": [
    "import pandas as pd"
   ]
  },
  {
   "cell_type": "code",
   "execution_count": 2,
   "metadata": {},
   "outputs": [],
   "source": [
    "def linear(mas, st):\n",
    "    \"\"\" линейный поиск:\n",
    "    Выводит найденные элементы, равные образцу. Если не удалось найти - сообщение об этом.\n",
    "    mas -- последовательность объектов, среди которых необходимо произвести поиск\n",
    "    st -- объект, который необходимо найти \"\"\"\n",
    "    \n",
    "    \"\"\" Пробегается по всем элементам последовательности и сравнивает каждый с образцом \"\"\"\n",
    "    flag = 0\n",
    "    for i in mas:\n",
    "        if i == st:\n",
    "            print(i) \n",
    "            flag += 1\n",
    "    if flag == 0:\n",
    "        print(\"There's no object that equals\", st)"
   ]
  },
  {
   "cell_type": "code",
   "execution_count": 3,
   "metadata": {},
   "outputs": [],
   "source": [
    "def binary(mas, st):\n",
    "    \"\"\" бинарный поиск:\n",
    "    Выводит найденные элементы, равные образцу.\n",
    "    mas -- последовательность отсортированных по неубыванию объектов, среди которых необходимо произвести поиск\n",
    "    st -- объект, который необходимо найти \"\"\"\n",
    "    \n",
    "    \"\"\" Образец сравнивается с выбираемым средним объектом:\n",
    "    Если они равны, то объект выводится.\n",
    "    Если образец <=, чем средний объект, то происходит поиск в левой относительно среднего части mas (не включая средний)\n",
    "    Если образец >=, чем средний объект, то происходит поиск в правой относительно среднего части mas (не включая средний) \"\"\"\n",
    "    if len(mas) == 0:\n",
    "        return 0\n",
    "    else:\n",
    "        mid = len(mas) // 2\n",
    "        if st == mas[mid]:\n",
    "            print(mas[mid])\n",
    "        if mas[mid] >= st:\n",
    "            binary(mas[:mid], st)\n",
    "        if mas[mid] <= st:\n",
    "            binary(mas[mid+1:], st)"
   ]
  },
  {
   "cell_type": "code",
   "execution_count": 4,
   "metadata": {},
   "outputs": [],
   "source": [
    "def sortmerge(m1, m2):\n",
    "    \"\"\" возвращает список элементов последовательностей m1 и m2, отсортированных по неубыванию\n",
    "    m1 -- последовательность объектов, отсортированных по неубыванию\n",
    "    m2 -- последовательность объектов, отсортированных по неубыванию \"\"\"\n",
    "    result = [] # возвращаемая итоговая отсортированная последовательность\n",
    "    while len(m1) > 0 and len(m2) > 0:\n",
    "        \"\"\" выполняем, пока одна из последовательностей m1 или m2 не опустеет:\n",
    "        в result поочередно записываем наименьший из минимальных элементов m1 и m2\n",
    "        и удаляем его из соответствующей последовательности \"\"\"\n",
    "        if m1[0] < m2[0]:\n",
    "            result.append(m1[0])\n",
    "            m1.pop(0)\n",
    "        else:\n",
    "            result.append(m2[0])\n",
    "            m2.pop(0)\n",
    "    \"\"\" из предыдущего цикла вышли, потому что одна из последовательностей m1 или m2 опустела:\n",
    "    находим ту, в которой еще есть отсортированные элементы, не записанные в result,\n",
    "    и конкатенируем эти последовательности \"\"\"\n",
    "    if len(m1) > 0:\n",
    "        result = result + m1\n",
    "    elif len(m2) > 0:\n",
    "        result = result + m2\n",
    "    return result\n",
    "            \n",
    "def merge(mas):\n",
    "    \"\"\" алгоритм сортировки слиянием (рекурсивный):\n",
    "    возвращает список отсортированных по неубыванию объектов\n",
    "    mas -- последовательность объектов, которую необходимо отсортировать \"\"\"\n",
    "    \n",
    "    \"\"\" делим исходную последовательность на элементы по одному объекту,\n",
    "    далее соседние между собой по-особенному(функцией sortmerge) конкатенируем.\n",
    "    Полученные соседние группы так же между собой этой функцией конкатенируются.\n",
    "    И т.д., пока не получится одна группа, которая и будет отсортированной последовательностью \"\"\"\n",
    "    if len(mas) < 2:\n",
    "        return mas\n",
    "    else:\n",
    "        mid = len(mas) // 2\n",
    "        left = merge(mas[:mid])\n",
    "        right = merge(mas[mid:])\n",
    "        return sortmerge(left, right)"
   ]
  },
  {
   "cell_type": "code",
   "execution_count": 5,
   "metadata": {},
   "outputs": [],
   "source": [
    "#from dataclasses import dataclass\n",
    "#@dataclass\n",
    "class Cars:\n",
    "    \"\"\" инициализация экземпляра класса Cars:\n",
    "    name -- ФИО владельца(default пустая строка)\n",
    "    тип name -- string\n",
    "    brand -- марка автомобиля(default пустая строка)\n",
    "    тип brand -- string\n",
    "    year -- год выпуска(default 0)\n",
    "    тип year -- int\n",
    "    number -- государственный номер(default пустая строка)\n",
    "    тип number -- string\n",
    "    color -- цвет(default пустая строка)\n",
    "    тип color -- string \"\"\"\n",
    "    def __init__(self, name = '', brand = '', year = 0, number = '', color = ''):\n",
    "        self.name = name\n",
    "        self.brand = brand\n",
    "        self.year = year\n",
    "        self.number = number\n",
    "        self.color = color\n",
    "        \n",
    "    def __eq__(self, other):\n",
    "        \"\"\" переопределение оператора ==.\n",
    "        Сравнение ведется по ФИО.\n",
    "        other -- объект справа от оператора \n",
    "        возвращает: True, если объект слева = объекту справа, иначе False \"\"\"\n",
    "        if self.name == other:\n",
    "            return True\n",
    "        else:\n",
    "            return False\n",
    "        \n",
    "    def __lt__(self, other):\n",
    "        \"\"\" переопределение оператора <.\n",
    "        Сравнение ведется по ФИО.\n",
    "        other -- объект справа от оператора \n",
    "        возвращает: True, если объект слева < объектa справа, иначе False \"\"\"\n",
    "        if self.name < other:\n",
    "            return True\n",
    "        else:\n",
    "            return False\n",
    "        \n",
    "    def __gt__(self, other):\n",
    "        \"\"\" переопределение оператора >.\n",
    "        Сравнение ведется по ФИО.\n",
    "        other -- объект справа от оператора \n",
    "        возвращает: True, если объект слева > объектa справа, иначе False \"\"\"\n",
    "        if self.name > other:\n",
    "            return True\n",
    "        else:\n",
    "            return False\n",
    "        \n",
    "    def __le__(self, other):\n",
    "        \"\"\" переопределение оператора <=.\n",
    "        Сравнение ведется по ФИО.\n",
    "        other -- объект справа от оператора \n",
    "        возвращает: True, если объект слева <= объектa справа, иначе False \"\"\"\n",
    "        if self.name <= other:\n",
    "            return True\n",
    "        else:\n",
    "            return False\n",
    "        \n",
    "    def __ge__(self, other):\n",
    "        \"\"\" переопределение оператора >=.\n",
    "        Сравнение ведется по ФИО.\n",
    "        other -- объект справа от оператора \n",
    "        возвращает: True, если объект слева >= объектa справа, иначе False \"\"\"\n",
    "        if self.name >= other:\n",
    "            return True\n",
    "        else:\n",
    "            return False\n",
    "        \n",
    "    def __repr__(self):\n",
    "        \"\"\" Вывод экземпляра класса \"\"\"\n",
    "        return '%r' % self.__dict__"
   ]
  },
  {
   "cell_type": "code",
   "execution_count": 6,
   "metadata": {},
   "outputs": [],
   "source": [
    "\"\"\" Инициализация списков значений времени поиска \n",
    "тип -- list \"\"\"\n",
    "linear_time, binarysort_time, binary_time = [], [], []"
   ]
  },
  {
   "cell_type": "markdown",
   "metadata": {},
   "source": [
    "## n=100 "
   ]
  },
  {
   "cell_type": "code",
   "execution_count": 7,
   "metadata": {},
   "outputs": [
    {
     "name": "stdout",
     "output_type": "stream",
     "text": [
      "Ищем данные о владельцах по имени Станимир Жоресович Пономарев\n",
      "Линейный поиск:\n",
      "{'name': 'Станимир Жоресович Пономарев', 'brand': 'KIA', 'year': 1930, 'number': 'р799ех 51', 'color': 'Темно-оранжевый'}\n",
      "Бинарный поиск + сортировка:\n",
      "{'name': 'Станимир Жоресович Пономарев', 'brand': 'KIA', 'year': 1930, 'number': 'р799ех 51', 'color': 'Темно-оранжевый'}\n",
      "Бинарный поиск в отсортированном:\n",
      "{'name': 'Станимир Жоресович Пономарев', 'brand': 'KIA', 'year': 1930, 'number': 'р799ех 51', 'color': 'Темно-оранжевый'}\n"
     ]
    }
   ],
   "source": [
    "from time import time\n",
    "import random\n",
    "\n",
    "\"\"\" В таблицу df записываются данные из df100.xlsx.\n",
    "Создается список cars экземпляров класса Cars, данные для которых берутся из таблицы df. \n",
    "Берем рандомное ФИО из тех, что есть в данном массиве данных - это наш образец\"\"\"\n",
    "df = pd.DataFrame()\n",
    "df = pd.read_excel('df100.xlsx')\n",
    "cars = []\n",
    "for i in range(100):\n",
    "    cars.append(Cars(name = df.iloc[i]['name'], brand = df.iloc[i]['car'], year = df.iloc[i]['year'], number = df.iloc[i]['number'], color = df.iloc[i]['color']))\n",
    "finds = random.choice(df['name'])\n",
    "print('Ищем данные о владельцах по имени',finds)\n",
    "\n",
    "\"\"\" Происходит линейный поиск ФИО finds в списке cars и засечение времени поиска \"\"\"\n",
    "print('Линейный поиск:')\n",
    "tic = time()\n",
    "linear(cars, finds)\n",
    "toc = time()\n",
    "linear_time.append(toc-tic)\n",
    "\n",
    "\"\"\" Происходит сортировка списка cars, бинарный поиск ФИО finds в этом списке и засечение времени поиска \"\"\"\n",
    "print('Бинарный поиск + сортировка:')\n",
    "tic = time()\n",
    "sortcars = merge(cars)\n",
    "binary(sortcars, finds)\n",
    "toc = time()\n",
    "binarysort_time.append(toc-tic)\n",
    "\n",
    "\"\"\" Происходит бинарный поиск ФИО finds в списке cars и засечение времени поиска \"\"\"\n",
    "print('Бинарный поиск в отсортированном:')\n",
    "tic = time()\n",
    "binary(sortcars, finds)\n",
    "toc = time()\n",
    "binary_time.append(toc-tic)"
   ]
  },
  {
   "cell_type": "markdown",
   "metadata": {},
   "source": [
    "## n=500 "
   ]
  },
  {
   "cell_type": "code",
   "execution_count": 8,
   "metadata": {},
   "outputs": [
    {
     "name": "stdout",
     "output_type": "stream",
     "text": [
      "Ищем данные о владельцах по имени Ситникова Лора Наумовна\n",
      "Линейный поиск:\n",
      "{'name': 'Ситникова Лора Наумовна', 'brand': 'Hyundai', 'year': 2015, 'number': 'м548пк 67', 'color': 'Фиолетовый'}\n",
      "Бинарный поиск + сортировка:\n",
      "{'name': 'Ситникова Лора Наумовна', 'brand': 'Hyundai', 'year': 2015, 'number': 'м548пк 67', 'color': 'Фиолетовый'}\n",
      "Бинарный поиск в отсортированном:\n",
      "{'name': 'Ситникова Лора Наумовна', 'brand': 'Hyundai', 'year': 2015, 'number': 'м548пк 67', 'color': 'Фиолетовый'}\n"
     ]
    }
   ],
   "source": [
    "\"\"\" В таблицу df записываются данные из df500.xlsx.\n",
    "Создается список cars экземпляров класса Cars, данные для которых берутся из таблицы df. \n",
    "Берем рандомное ФИО из тех, что есть в данном массиве данных - это наш образец\"\"\"\n",
    "df = pd.DataFrame()\n",
    "df = pd.read_excel('df500.xlsx')\n",
    "cars = []\n",
    "for i in range(500):\n",
    "    cars.append(Cars(name = df.iloc[i]['name'], brand = df.iloc[i]['car'], year = df.iloc[i]['year'], number = df.iloc[i]['number'], color = df.iloc[i]['color']))\n",
    "finds = random.choice(df['name'])\n",
    "print('Ищем данные о владельцах по имени',finds)\n",
    "\n",
    "\"\"\" Происходит линейный поиск ФИО finds в списке cars и засечение времени поиска \"\"\"\n",
    "print('Линейный поиск:')\n",
    "tic = time()\n",
    "linear(cars, finds)\n",
    "toc = time()\n",
    "linear_time.append(toc-tic)\n",
    "\n",
    "\"\"\" Происходит сортировка списка cars, бинарный поиск ФИО finds в этом списке и засечение времени поиска \"\"\"\n",
    "print('Бинарный поиск + сортировка:')\n",
    "tic = time()\n",
    "sortcars = merge(cars)\n",
    "binary(sortcars, finds)\n",
    "toc = time()\n",
    "binarysort_time.append(toc-tic)\n",
    "\n",
    "\"\"\" Происходит бинарный поиск ФИО finds в списке cars и засечение времени поиска \"\"\"\n",
    "print('Бинарный поиск в отсортированном:')\n",
    "tic = time()\n",
    "binary(sortcars, finds)\n",
    "toc = time()\n",
    "binary_time.append(toc-tic)"
   ]
  },
  {
   "cell_type": "markdown",
   "metadata": {},
   "source": [
    "## n=1000 "
   ]
  },
  {
   "cell_type": "code",
   "execution_count": 9,
   "metadata": {},
   "outputs": [
    {
     "name": "stdout",
     "output_type": "stream",
     "text": [
      "Ищем данные о владельцах по имени Макаров Мефодий Анисимович\n",
      "Линейный поиск:\n",
      "{'name': 'Макаров Мефодий Анисимович', 'brand': 'Mitsubishi', 'year': 1937, 'number': 'ы252ат 3', 'color': 'Слоновая кость'}\n",
      "Бинарный поиск + сортировка:\n",
      "{'name': 'Макаров Мефодий Анисимович', 'brand': 'Mitsubishi', 'year': 1937, 'number': 'ы252ат 3', 'color': 'Слоновая кость'}\n",
      "Бинарный поиск в отсортированном:\n",
      "{'name': 'Макаров Мефодий Анисимович', 'brand': 'Mitsubishi', 'year': 1937, 'number': 'ы252ат 3', 'color': 'Слоновая кость'}\n"
     ]
    }
   ],
   "source": [
    "\"\"\" В таблицу df записываются данные из df1000.xlsx.\n",
    "Создается список cars экземпляров класса Cars, данные для которых берутся из таблицы df. \n",
    "Берем рандомное ФИО из тех, что есть в данном массиве данных - это наш образец\"\"\"\n",
    "df = pd.DataFrame()\n",
    "df = pd.read_excel('df1000.xlsx')\n",
    "cars = []\n",
    "for i in range(1000):\n",
    "    cars.append(Cars(name = df.iloc[i]['name'], brand = df.iloc[i]['car'], year = df.iloc[i]['year'], number = df.iloc[i]['number'], color = df.iloc[i]['color']))\n",
    "finds = random.choice(df['name'])\n",
    "print('Ищем данные о владельцах по имени',finds)\n",
    "\n",
    "\"\"\" Происходит линейный поиск ФИО finds в списке cars и засечение времени поиска \"\"\"\n",
    "print('Линейный поиск:')\n",
    "tic = time()\n",
    "linear(cars, finds)\n",
    "toc = time()\n",
    "linear_time.append(toc-tic)\n",
    "\n",
    "\"\"\" Происходит сортировка списка cars, бинарный поиск ФИО finds в этом списке и засечение времени поиска \"\"\"\n",
    "print('Бинарный поиск + сортировка:')\n",
    "tic = time()\n",
    "sortcars = merge(cars)\n",
    "binary(sortcars, finds)\n",
    "toc = time()\n",
    "binarysort_time.append(toc-tic)\n",
    "\n",
    "\"\"\" Происходит бинарный поиск ФИО finds в списке cars и засечение времени поиска \"\"\"\n",
    "print('Бинарный поиск в отсортированном:')\n",
    "tic = time()\n",
    "binary(sortcars, finds)\n",
    "toc = time()\n",
    "binary_time.append(toc-tic)"
   ]
  },
  {
   "cell_type": "markdown",
   "metadata": {},
   "source": [
    "## n=5000 "
   ]
  },
  {
   "cell_type": "code",
   "execution_count": 10,
   "metadata": {},
   "outputs": [
    {
     "name": "stdout",
     "output_type": "stream",
     "text": [
      "Ищем данные о владельцах по имени Пахомова Екатерина Болеславовна\n",
      "Линейный поиск:\n",
      "{'name': 'Пахомова Екатерина Болеславовна', 'brand': 'Tesla', 'year': 1950, 'number': 'ч149мл 96', 'color': 'Бежевый'}\n",
      "Бинарный поиск + сортировка:\n",
      "{'name': 'Пахомова Екатерина Болеславовна', 'brand': 'Tesla', 'year': 1950, 'number': 'ч149мл 96', 'color': 'Бежевый'}\n",
      "Бинарный поиск в отсортированном:\n",
      "{'name': 'Пахомова Екатерина Болеславовна', 'brand': 'Tesla', 'year': 1950, 'number': 'ч149мл 96', 'color': 'Бежевый'}\n"
     ]
    }
   ],
   "source": [
    "\"\"\" В таблицу df записываются данные из df5000.xlsx.\n",
    "Создается список cars экземпляров класса Cars, данные для которых берутся из таблицы df. \n",
    "Берем рандомное ФИО из тех, что есть в данном массиве данных - это наш образец\"\"\"\n",
    "df = pd.DataFrame()\n",
    "df = pd.read_excel('df5000.xlsx')\n",
    "cars = []\n",
    "for i in range(5000):\n",
    "    cars.append(Cars(name = df.iloc[i]['name'], brand = df.iloc[i]['car'], year = df.iloc[i]['year'], number = df.iloc[i]['number'], color = df.iloc[i]['color']))\n",
    "finds = random.choice(df['name'])\n",
    "print('Ищем данные о владельцах по имени',finds)\n",
    "\n",
    "\"\"\" Происходит линейный поиск ФИО finds в списке cars и засечение времени поиска \"\"\"\n",
    "print('Линейный поиск:')\n",
    "tic = time()\n",
    "linear(cars, finds)\n",
    "toc = time()\n",
    "linear_time.append(toc-tic)\n",
    "\n",
    "\"\"\" Происходит сортировка списка cars, бинарный поиск ФИО finds в этом списке и засечение времени поиска \"\"\"\n",
    "print('Бинарный поиск + сортировка:')\n",
    "tic = time()\n",
    "sortcars = merge(cars)\n",
    "binary(sortcars, finds)\n",
    "toc = time()\n",
    "binarysort_time.append(toc-tic)\n",
    "\n",
    "\"\"\" Происходит бинарный поиск ФИО finds в списке cars и засечение времени поиска \"\"\"\n",
    "print('Бинарный поиск в отсортированном:')\n",
    "tic = time()\n",
    "binary(sortcars, finds)\n",
    "toc = time()\n",
    "binary_time.append(toc-tic)"
   ]
  },
  {
   "cell_type": "markdown",
   "metadata": {},
   "source": [
    "## n=10.000 "
   ]
  },
  {
   "cell_type": "code",
   "execution_count": 11,
   "metadata": {},
   "outputs": [
    {
     "name": "stdout",
     "output_type": "stream",
     "text": [
      "Ищем данные о владельцах по имени Логинов Гурий Георгиевич\n",
      "Линейный поиск:\n",
      "{'name': 'Логинов Гурий Георгиевич', 'brand': 'Chevrolet', 'year': 1928, 'number': 'т736нч 94', 'color': 'Белый'}\n",
      "Бинарный поиск + сортировка:\n",
      "{'name': 'Логинов Гурий Георгиевич', 'brand': 'Chevrolet', 'year': 1928, 'number': 'т736нч 94', 'color': 'Белый'}\n",
      "Бинарный поиск в отсортированном:\n",
      "{'name': 'Логинов Гурий Георгиевич', 'brand': 'Chevrolet', 'year': 1928, 'number': 'т736нч 94', 'color': 'Белый'}\n"
     ]
    }
   ],
   "source": [
    "\"\"\" В таблицу df записываются данные из df10000.xlsx.\n",
    "Создается список cars экземпляров класса Cars, данные для которых берутся из таблицы df. \n",
    "Берем рандомное ФИО из тех, что есть в данном массиве данных - это наш образец\"\"\"\n",
    "df = pd.DataFrame()\n",
    "df = pd.read_excel('df10000.xlsx')\n",
    "cars = []\n",
    "for i in range(10000):\n",
    "    cars.append(Cars(name = df.iloc[i]['name'], brand = df.iloc[i]['car'], year = df.iloc[i]['year'], number = df.iloc[i]['number'], color = df.iloc[i]['color']))\n",
    "finds = random.choice(df['name'])\n",
    "print('Ищем данные о владельцах по имени',finds)\n",
    "\n",
    "\"\"\" Происходит линейный поиск ФИО finds в списке cars и засечение времени поиска \"\"\"\n",
    "print('Линейный поиск:')\n",
    "tic = time()\n",
    "linear(cars, finds)\n",
    "toc = time()\n",
    "linear_time.append(toc-tic)\n",
    "\n",
    "\"\"\" Происходит сортировка списка cars, бинарный поиск ФИО finds в этом списке и засечение времени поиска \"\"\"\n",
    "print('Бинарный поиск + сортировка:')\n",
    "tic = time()\n",
    "sortcars = merge(cars)\n",
    "binary(sortcars, finds)\n",
    "toc = time()\n",
    "binarysort_time.append(toc-tic)\n",
    "\n",
    "\"\"\" Происходит бинарный поиск ФИО finds в списке cars и засечение времени поиска \"\"\"\n",
    "print('Бинарный поиск в отсортированном:')\n",
    "tic = time()\n",
    "binary(sortcars, finds)\n",
    "toc = time()\n",
    "binary_time.append(toc-tic)"
   ]
  },
  {
   "cell_type": "markdown",
   "metadata": {},
   "source": [
    "## n=50.000 "
   ]
  },
  {
   "cell_type": "code",
   "execution_count": 12,
   "metadata": {},
   "outputs": [
    {
     "name": "stdout",
     "output_type": "stream",
     "text": [
      "Ищем данные о владельцах по имени Евгения Кузьминична Беспалова\n",
      "Линейный поиск:\n",
      "{'name': 'Евгения Кузьминична Беспалова', 'brand': 'Mitsubishi', 'year': 1929, 'number': 'т499кц 18', 'color': 'Темно-розовый'}\n",
      "Бинарный поиск + сортировка:\n",
      "{'name': 'Евгения Кузьминична Беспалова', 'brand': 'Mitsubishi', 'year': 1929, 'number': 'т499кц 18', 'color': 'Темно-розовый'}\n",
      "Бинарный поиск в отсортированном:\n",
      "{'name': 'Евгения Кузьминична Беспалова', 'brand': 'Mitsubishi', 'year': 1929, 'number': 'т499кц 18', 'color': 'Темно-розовый'}\n"
     ]
    }
   ],
   "source": [
    "\"\"\" В таблицу df записываются данные из df50000.xlsx.\n",
    "Создается список cars экземпляров класса Cars, данные для которых берутся из таблицы df. \n",
    "Берем рандомное ФИО из тех, что есть в данном массиве данных - это наш образец\"\"\"\n",
    "df = pd.DataFrame()\n",
    "df = pd.read_excel('df50000.xlsx')\n",
    "cars = []\n",
    "for i in range(50000):\n",
    "    cars.append(Cars(name = df.iloc[i]['name'], brand = df.iloc[i]['car'], year = df.iloc[i]['year'], number = df.iloc[i]['number'], color = df.iloc[i]['color']))\n",
    "finds = random.choice(df['name'])\n",
    "print('Ищем данные о владельцах по имени',finds)\n",
    "\n",
    "\"\"\" Происходит линейный поиск ФИО finds в списке cars и засечение времени поиска \"\"\"\n",
    "print('Линейный поиск:')\n",
    "tic = time()\n",
    "linear(cars, finds)\n",
    "toc = time()\n",
    "linear_time.append(toc-tic)\n",
    "\n",
    "\"\"\" Происходит сортировка списка cars, бинарный поиск ФИО finds в этом списке и засечение времени поиска \"\"\"\n",
    "print('Бинарный поиск + сортировка:')\n",
    "tic = time()\n",
    "sortcars = merge(cars)\n",
    "binary(sortcars, finds)\n",
    "toc = time()\n",
    "binarysort_time.append(toc-tic)\n",
    "\n",
    "\"\"\" Происходит бинарный поиск ФИО finds в списке cars и засечение времени поиска \"\"\"\n",
    "print('Бинарный поиск в отсортированном:')\n",
    "tic = time()\n",
    "binary(sortcars, finds)\n",
    "toc = time()\n",
    "binary_time.append(toc-tic)"
   ]
  },
  {
   "cell_type": "markdown",
   "metadata": {},
   "source": [
    "## n=100.000 "
   ]
  },
  {
   "cell_type": "code",
   "execution_count": 13,
   "metadata": {},
   "outputs": [
    {
     "name": "stdout",
     "output_type": "stream",
     "text": [
      "Ищем данные о владельцах по имени Кузьмина Юлия Руслановна\n",
      "Линейный поиск:\n",
      "{'name': 'Кузьмина Юлия Руслановна', 'brand': 'Honda', 'year': 1913, 'number': 'ц983ыц 96', 'color': 'Хаки'}\n",
      "Бинарный поиск + сортировка:\n",
      "{'name': 'Кузьмина Юлия Руслановна', 'brand': 'Honda', 'year': 1913, 'number': 'ц983ыц 96', 'color': 'Хаки'}\n",
      "Бинарный поиск в отсортированном:\n",
      "{'name': 'Кузьмина Юлия Руслановна', 'brand': 'Honda', 'year': 1913, 'number': 'ц983ыц 96', 'color': 'Хаки'}\n"
     ]
    }
   ],
   "source": [
    "\"\"\" В таблицу df записываются данные из df100000.xlsx.\n",
    "Создается список cars экземпляров класса Cars, данные для которых берутся из таблицы df. \n",
    "Берем рандомное ФИО из тех, что есть в данном массиве данных - это наш образец\"\"\"\n",
    "df = pd.DataFrame()\n",
    "df = pd.read_excel('df100000.xlsx')\n",
    "cars = []\n",
    "for i in range(100000):\n",
    "    cars.append(Cars(name = df.iloc[i]['name'], brand = df.iloc[i]['car'], year = df.iloc[i]['year'], number = df.iloc[i]['number'], color = df.iloc[i]['color']))\n",
    "finds = random.choice(df['name'])\n",
    "print('Ищем данные о владельцах по имени',finds)\n",
    "\n",
    "\"\"\" Происходит линейный поиск ФИО finds в списке cars и засечение времени поиска \"\"\"\n",
    "print('Линейный поиск:')\n",
    "tic = time()\n",
    "linear(cars, finds)\n",
    "toc = time()\n",
    "linear_time.append(toc-tic)\n",
    "\n",
    "\"\"\" Происходит сортировка списка cars, бинарный поиск ФИО finds в этом списке и засечение времени поиска \"\"\"\n",
    "print('Бинарный поиск + сортировка:')\n",
    "tic = time()\n",
    "sortcars = merge(cars)\n",
    "binary(sortcars, finds)\n",
    "toc = time()\n",
    "binarysort_time.append(toc-tic)\n",
    "\n",
    "\"\"\" Происходит бинарный поиск ФИО finds в списке cars и засечение времени поиска \"\"\"\n",
    "print('Бинарный поиск в отсортированном:')\n",
    "tic = time()\n",
    "binary(sortcars, finds)\n",
    "toc = time()\n",
    "binary_time.append(toc-tic)"
   ]
  },
  {
   "cell_type": "code",
   "execution_count": 23,
   "metadata": {},
   "outputs": [
    {
     "data": {
      "text/plain": [
       "[]"
      ]
     },
     "execution_count": 23,
     "metadata": {},
     "output_type": "execute_result"
    },
    {
     "data": {
      "image/png": "[encoded data removed]",
      "text/plain": [
       "<Figure size 1440x720 with 1 Axes>"
      ]
     },
     "metadata": {
      "needs_background": "light"
     },
     "output_type": "display_data"
    }
   ],
   "source": [
    "import matplotlib.pyplot as plt\n",
    "\n",
    "\"\"\" Построение графика зависимости времени поиска от величины выборки \"\"\"\n",
    "sizes = [100, 500, 1000, 5000, 10000, 50000, 100000]\n",
    "fig, ax = plt.subplots(figsize=(20, 10))\n",
    "ax.plot(sizes, linear_time, label = 'линейный поиск')\n",
    "ax.plot(sizes, binarysort_time, label = 'бинарный поиск с сортировкой')\n",
    "ax.plot(sizes, binary_time, label = 'бинарный поиск в уже отсортированном')\n",
    "ax.legend()\n",
    "ax.plot()"
   ]
  },
  {
   "cell_type": "code",
   "execution_count": 24,
   "metadata": {},
   "outputs": [
    {
     "data": {
      "text/plain": [
       "[]"
      ]
     },
     "execution_count": 24,
     "metadata": {},
     "output_type": "execute_result"
    },
    {
     "data": {
      "image/png": "[encoded data removed]",
      "text/plain": [
       "<Figure size 1440x720 with 1 Axes>"
      ]
     },
     "metadata": {
      "needs_background": "light"
     },
     "output_type": "display_data"
    }
   ],
   "source": [
    "\"\"\" Построение графика зависимости времени поиска от величины выборки \"\"\"\n",
    "fig, ax = plt.subplots(figsize=(20, 10))\n",
    "ax.plot(sizes, linear_time, label = 'линейный поиск')\n",
    "ax.plot(sizes, binary_time, label = 'бинарный поиск в уже отсортированном')\n",
    "ax.legend()\n",
    "ax.plot()"
   ]
  },
  {
   "cell_type": "code",
   "execution_count": 16,
   "metadata": {},
   "outputs": [],
   "source": [
    "\"\"\" Инициализация списка значений времени поиска в ассоциативном массиве \"\"\"\n",
    "multimap_time = []\n",
    "for j in sizes:\n",
    "    \"\"\" В таблицу df записываются данные из файла с массивом данных объема j (те же, что использовались ранее) \"\"\"\n",
    "    df = pd.read_excel(f'df{j}.xlsx')\n",
    "    \"\"\" Инициализация ассоциативного массива \"\"\"\n",
    "    dic = {}\n",
    "    for i in range(len(df)):\n",
    "        \"\"\" Просматриваем каждую строку таблицы df:\n",
    "        если в ассоциативном массиве dic нет записи с ФИО из текущей строки, то создаем\n",
    "        в противном случае добавляем к существуюшему значению текущую строку \"\"\"\n",
    "        if dic.get(df['name'][i]) == None:\n",
    "            dic[df['name'][i]] = [df['car'][i], df['year'][i], df['number'][i], df['color'][i]]\n",
    "        else:\n",
    "            dic[df['name'][i]].append([df['car'][i], df['year'][i], df['number'][i], df['color'][i]])\n",
    "    \"\"\" Образец, который ищем, - рандомное ФИО из существующих в таблице df \n",
    "    Засекаем время поиска образца в ассоциативном массиве dic \"\"\"\n",
    "    find = random.choice(df['name'])\n",
    "    tic = time()\n",
    "    p = dic.get(find)\n",
    "    toc = time()\n",
    "    multimap_time.append(toc - tic)"
   ]
  },
  {
   "cell_type": "code",
   "execution_count": 25,
   "metadata": {},
   "outputs": [
    {
     "data": {
      "text/plain": [
       "[]"
      ]
     },
     "execution_count": 25,
     "metadata": {},
     "output_type": "execute_result"
    },
    {
     "data": {
      "image/png": "[encoded data removed]",
      "text/plain": [
       "<Figure size 1440x720 with 1 Axes>"
      ]
     },
     "metadata": {
      "needs_background": "light"
     },
     "output_type": "display_data"
    }
   ],
   "source": [
    "\"\"\" Построение графика зависимости времени бинарного поиска в отсортированном\n",
    "и в ассоциативном массиве от величины выборки \"\"\"\n",
    "fig, ax = plt.subplots(figsize=(20, 10))\n",
    "ax.plot(sizes, multimap_time, label = 'multimap')\n",
    "ax.plot(sizes, binary_time, label = 'бинарный поиск в уже отсортированном')\n",
    "ax.legend()\n",
    "ax.plot()"
   ]
  },
  {
   "cell_type": "code",
   "execution_count": null,
   "metadata": {},
   "outputs": [],
   "source": []
  }
 ],
 "metadata": {
  "kernelspec": {
   "display_name": "Python 3",
   "language": "python",
   "name": "python3"
  },
  "language_info": {
   "codemirror_mode": {
    "name": "ipython",
    "version": 3
   },
   "file_extension": ".py",
   "mimetype": "text/x-python",
   "name": "python",
   "nbconvert_exporter": "python",
   "pygments_lexer": "ipython3",
   "version": "3.7.3"
  }
 },
 "nbformat": 4,
 "nbformat_minor": 2
}
