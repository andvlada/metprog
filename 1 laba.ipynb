{
 "cells": [
  {
   "cell_type": "markdown",
   "metadata": {},
   "source": [
    "# Андреева Влада, СКБ 171"
   ]
  },
  {
   "cell_type": "markdown",
   "metadata": {},
   "source": [
    "# Вариант 1. Сортировки: выбором, быстрая, слиянием."
   ]
  },
  {
   "cell_type": "code",
   "execution_count": 3,
   "metadata": {},
   "outputs": [],
   "source": [
    "import pandas as pd"
   ]
  },
  {
   "cell_type": "markdown",
   "metadata": {},
   "source": [
    "# Реализация сортировок"
   ]
  },
  {
   "cell_type": "markdown",
   "metadata": {},
   "source": [
    "## Сортировка выбором "
   ]
  },
  {
   "cell_type": "code",
   "execution_count": 4,
   "metadata": {},
   "outputs": [],
   "source": [
    "def choice(mas):\n",
    "    \"\"\" алгоритм сортировки выбором:\n",
    "    возвращает список отсортированных по неубыванию объектов.\n",
    "    mas -- последовательность объектов, которую необходимо отсортировать \"\"\"\n",
    "    \n",
    "    \"\"\" для каждого объекта, начиная с первого, ищем наименьший среди нерассмотренных(всех, что справа) \n",
    "    и меняем их местами с текущим. Если текущий наименьший, то переходим к рассмотрению следующего \"\"\"\n",
    "    for i in range(len(mas)):           \n",
    "        mmin = i                        \n",
    "        for j in range(i+1, len(mas)): \n",
    "            if mas[j] < mas[mmin]:     \n",
    "                mmin = j               \n",
    "        if mmin != i:                  \n",
    "            mas[mmin], mas[i] = mas[i], mas[mmin] \n",
    "    return mas                         "
   ]
  },
  {
   "cell_type": "markdown",
   "metadata": {},
   "source": [
    "## Быстрая сортировка"
   ]
  },
  {
   "cell_type": "code",
   "execution_count": 5,
   "metadata": {},
   "outputs": [],
   "source": [
    "def quick(mas):\n",
    "    \"\"\" алгоритм быстрой сортировки (рекурсивный):\n",
    "    возвращает список отсортированных по неубыванию объектов.\n",
    "    mas -- последовательность объектов, которую необходимо отсортировать \"\"\"\n",
    "    \n",
    "    \"\"\" делим mas на три части:\n",
    "    left -- список объектов, которые меньше выбираемого среднего объекта \n",
    "    middle -- список объектов, равных среднему\n",
    "    right -- список объектов, которые больше среднего объекта.\n",
    "    Далее рекурсивно вызываем quick от left и right, пока они содержат более одного элемента. \"\"\"\n",
    "    if len(mas) > 1:                              \n",
    "        med = mas[len(mas) // 2]             \n",
    "        left, right, middle = [], [], []\n",
    "        for i in range(len(mas)):           \n",
    "            if mas[i] < med:           \n",
    "                left.append(mas[i])\n",
    "            elif mas[i] > med:          \n",
    "                right.append(mas[i])\n",
    "            else:\n",
    "                middle.append(mas[i])           \n",
    "        return quick(left) + middle + quick(right) \n",
    "    else:\n",
    "        return mas"
   ]
  },
  {
   "cell_type": "markdown",
   "metadata": {},
   "source": [
    "## Сортировка слиянием "
   ]
  },
  {
   "cell_type": "code",
   "execution_count": 6,
   "metadata": {},
   "outputs": [],
   "source": [
    "def sortmerge(m1, m2):\n",
    "    \"\"\" возвращает список объектов последовательностей m1 и m2, отсортированных по неубыванию\n",
    "    m1 -- последовательность объектов, отсортированных по неубыванию\n",
    "    m2 -- последовательность объектов, отсортированных по неубыванию \"\"\"\n",
    "    result = [] # возвращаемая итоговая отсортированная последовательность\n",
    "    while len(m1) > 0 and len(m2) > 0:\n",
    "        \"\"\" выполняем, пока одна из последовательностей m1 или m2 не опустеет:\n",
    "        в result поочередно записываем наименьший из минимальных элементов m1 и m2\n",
    "        и удаляем его из соответствующей последовательности \"\"\"\n",
    "        if m1[0] < m2[0]:\n",
    "            result.append(m1[0])\n",
    "            m1.pop(0)\n",
    "        else:\n",
    "            result.append(m2[0])\n",
    "            m2.pop(0)\n",
    "    \"\"\" из предыдущего цикла вышли, потому что одна из последовательностей m1 или m2 опустела:\n",
    "    находим ту, в которой еще есть отсортированные элементы, не записанные в result,\n",
    "    и конкатенируем эти последовательности \"\"\"\n",
    "    if len(m1) > 0:\n",
    "        result = result + m1\n",
    "    elif len(m2) > 0:\n",
    "        result = result + m2\n",
    "    return result\n",
    "            \n",
    "def merge(mas):\n",
    "    \"\"\" алгоритм сортировки слиянием (рекурсивный):\n",
    "    возвращает список отсортированных по неубыванию объектов\n",
    "    mas -- последовательность объектов, которую необходимо отсортировать \"\"\"\n",
    "    \n",
    "    \"\"\" делим исходную последовательность на элементы по одному объекту,\n",
    "    далее соседние между собой по-особенному(функцией sortmerge) конкатенируем.\n",
    "    Полученные соседние группы так же между собой этой функцией конкатенируются.\n",
    "    И т.д., пока не получится одна группа, которая и будет отсортированной последовательностью \"\"\"\n",
    "    if len(mas) < 2:\n",
    "        return mas\n",
    "    else:\n",
    "        mid = len(mas) // 2\n",
    "        left = merge(mas[:mid])\n",
    "        right = merge(mas[mid:])\n",
    "        return sortmerge(left, right)"
   ]
  },
  {
   "cell_type": "markdown",
   "metadata": {},
   "source": [
    "# Создание класса"
   ]
  },
  {
   "cell_type": "code",
   "execution_count": 7,
   "metadata": {},
   "outputs": [],
   "source": [
    "from dataclasses import dataclass\n",
    "@dataclass\n",
    "class Cars:\n",
    "    \"\"\"инициализация объекта класса Cars:\n",
    "    name -- ФИО владельца\n",
    "    тип name -- string\n",
    "    brand -- марка автомобиля\n",
    "    тип brand -- string\n",
    "    year -- год выпуска\n",
    "    тип year -- int\n",
    "    number -- государственный номер\n",
    "    тип number -- string\n",
    "    color -- цвет\n",
    "    тип color -- string \"\"\"\n",
    "    \n",
    "    def __init__(self, name = '', brand = '', year = 0, number = '', color = ''):\n",
    "        self.name = str(name)\n",
    "        self.brand = str(brand)\n",
    "        self.year = int(year)\n",
    "        self.number= str(number)\n",
    "        self.color = str(color)\n",
    "\n",
    "    def __lt__(self, other):\n",
    "        \"\"\" переопределение оператора <.\n",
    "        Сравнение ведется сначала по числу в гос. номере машины, затем по году выпуска, после по марке автомобиля, \n",
    "        по цвету и, самое последнее, по ФИО. \n",
    "        other -- объект справа от оператора \n",
    "        возвращает: True, если объект слева < объекта справа, иначе False \"\"\"\n",
    "        if (int(self.number[1:4]) < int(other.number[1:4])):\n",
    "            return True\n",
    "        elif (int(self.number[1:4]) == int(other.number[1:4])):\n",
    "            if self.year < other.year:\n",
    "                return True\n",
    "            elif self.year == other.year:\n",
    "                if self.brand < other.brand:\n",
    "                    return True\n",
    "                elif self.brand == other.brand:\n",
    "                    if self.color < other.color:\n",
    "                        return True\n",
    "                    elif self.color == other.color:\n",
    "                        if self.name < other.name:\n",
    "                            return True\n",
    "        else:\n",
    "            return False\n",
    "        \n",
    "    def __gt__(self, other):\n",
    "        \"\"\" переопределение оператора >.\n",
    "        Сравнение ведется сначала по числу в гос. номере машины, затем по году выпуска, после по марке автомобиля, \n",
    "        по цвету и, самое последнее, по ФИО.  \n",
    "        other -- объект справа от оператора \n",
    "        возвращает: True, если объект слева > объекта справа, иначе False \"\"\"\n",
    "        if (int(self.number[1:4]) > int(other.number[1:4])):\n",
    "            return True\n",
    "        elif (int(self.number[1:4]) == int(other.number[1:4])):\n",
    "            if self.year > other.year:\n",
    "                return True\n",
    "            elif self.year == other.year:\n",
    "                if self.brand > other.brand:\n",
    "                    return True\n",
    "                elif self.brand == other.brand:\n",
    "                    if self.color > other.color:\n",
    "                        return True\n",
    "                    elif self.color == other.color:\n",
    "                        if self.name > other.name:\n",
    "                            return True\n",
    "        else:\n",
    "            return False\n",
    "        \n",
    "    def __le__(self, other):\n",
    "        \"\"\" переопределение оператора <=.\n",
    "        Сравнение ведется сначала по числу в гос. номере машины, затем по году выпуска, после по марке автомобиля, \n",
    "        по цвету и, самое последнее, по ФИО.  \n",
    "        other -- объект справа от оператора \n",
    "        возвращает: True, если объект слева <= объекта справа, иначе False \"\"\"\n",
    "        if (int(self.number[1:4]) <= int(other.number[1:4])):\n",
    "            return True\n",
    "        elif (int(self.number[1:4]) == int(other.number[1:4])):\n",
    "            if self.year <= other.year:\n",
    "                return True\n",
    "            elif self.year == other.year:\n",
    "                if self.brand <= other.brand:\n",
    "                    return True\n",
    "                elif self.brand == other.brand:\n",
    "                    if self.color <= other.color:\n",
    "                        return True\n",
    "                    elif self.color == other.color:\n",
    "                        if self.name <= other.name:\n",
    "                            return True\n",
    "        else:\n",
    "            return False\n",
    "        \n",
    "    def __ge__(self, other):\n",
    "        \"\"\" переопределение оператора >=.\n",
    "        Сравнение ведется сначала по числу в гос. номере машины, затем по году выпуска, после по марке автомобиля, \n",
    "        по цвету и, самое последнее, по ФИО.  \n",
    "        other -- объект справа от оператора \n",
    "        возвращает: True, если объект слева <= объекта справа, иначе False \"\"\"\n",
    "        if (int(self.number[1:4]) >= int(other.number[1:4])):\n",
    "            return True\n",
    "        elif (int(self.number[1:4]) == int(other.number[1:4])):\n",
    "            if self.year >= other.year:\n",
    "                return True\n",
    "            elif self.year == other.year:\n",
    "                if self.brand >= other.brand:\n",
    "                    return True\n",
    "                elif self.brand == other.brand:\n",
    "                    if self.color >= other.color:\n",
    "                        return True\n",
    "                    elif self.color == other.color:\n",
    "                        if self.name >= other.name:\n",
    "                            return True\n",
    "        else:\n",
    "            return False"
   ]
  },
  {
   "cell_type": "code",
   "execution_count": 8,
   "metadata": {},
   "outputs": [],
   "source": [
    "\"\"\" Инициализация списков значений времени сортировок \n",
    "тип -- list \"\"\"\n",
    "choices_time, quick_time, merge_time = [], [], []"
   ]
  },
  {
   "cell_type": "code",
   "execution_count": 9,
   "metadata": {},
   "outputs": [],
   "source": [
    "\"\"\" Инициализация списка размеров выборок для построения графиков\n",
    "тип -- list \"\"\"\n",
    "sizes = [1000, 5000, 10000, 50000, 100000]"
   ]
  },
  {
   "cell_type": "markdown",
   "metadata": {},
   "source": [
    "# Создание объектов класса, сортировка"
   ]
  },
  {
   "cell_type": "markdown",
   "metadata": {},
   "source": [
    "## n=1000 "
   ]
  },
  {
   "cell_type": "code",
   "execution_count": 10,
   "metadata": {},
   "outputs": [],
   "source": [
    "from time import time\n",
    "\n",
    "\"\"\" В таблицу df записываются данные из df1000.xlsx.\n",
    "Создается список cars объектов класса Cars, данные для которых берутся из таблицы df. \"\"\"\n",
    "df = pd.DataFrame()\n",
    "df = pd.read_excel('df1000.xlsx')\n",
    "cars = []\n",
    "for i in range(1000):\n",
    "    cars.append(Cars(name = df.iloc[i]['name'], brand = df.iloc[i]['car'], year = df.iloc[i]['year'], number = df.iloc[i]['number'], color = df.iloc[i]['color']))\n",
    "\n",
    "\"\"\" Происходит сортировка выбором списка cars, засечение времени сортировки и \n",
    "запись отсортированной таблицы в файл choice1000.xlsx \"\"\"\n",
    "dfres = pd.DataFrame(columns = ['name', 'brand', 'year', 'number', 'color'])\n",
    "tic = time()\n",
    "res = choice(cars)\n",
    "toc = time()\n",
    "choices_time.append(toc-tic)\n",
    "for i in range(len(res)):\n",
    "    dfres.loc[i] = [res[i].name, res[i].brand, res[i].year, res[i].number, res[i].color]\n",
    "dfres.to_excel('choice1000.xlsx')\n",
    "\n",
    "\"\"\" Происходит быстрая сортировка списка cars, засечение времени сортировки и \n",
    "запись отсортированной таблицы в файл quick1000.xlsx \"\"\"\n",
    "dfres = pd.DataFrame(columns = ['name', 'brand', 'year', 'number', 'color'])\n",
    "tic = time()\n",
    "res = quick(cars)\n",
    "toc = time()\n",
    "quick_time.append(toc-tic)\n",
    "for i in range(len(res)):\n",
    "    dfres.loc[i] = [res[i].name, res[i].brand, res[i].year, res[i].number, res[i].color]\n",
    "dfres.to_excel('quick1000.xlsx')\n",
    "\n",
    "\"\"\" Происходит сортировка слиянием списка cars, засечение времени сортировки и \n",
    "запись отсортированной таблицы в файл merge1000.xlsx \"\"\"\n",
    "dfres = pd.DataFrame(columns = ['name', 'brand', 'year', 'number', 'color'])\n",
    "tic = time()\n",
    "res = merge(cars)\n",
    "toc = time()\n",
    "merge_time.append(toc-tic)\n",
    "for i in range(len(res)):\n",
    "    dfres.loc[i] = [res[i].name, res[i].brand, res[i].year, res[i].number, res[i].color]\n",
    "dfres.to_excel('merge1000.xlsx')"
   ]
  },
  {
   "cell_type": "markdown",
   "metadata": {},
   "source": [
    "## n=5000 "
   ]
  },
  {
   "cell_type": "code",
   "execution_count": 11,
   "metadata": {},
   "outputs": [],
   "source": [
    "\"\"\" В таблицу df записываются данные из df5000.xlsx.\n",
    "Создается список cars объектов класса Cars, данные для которых берутся из таблицы df. \"\"\"\n",
    "df = pd.DataFrame()\n",
    "df = pd.read_excel('df5000.xlsx')\n",
    "cars = []\n",
    "for i in range(5000):\n",
    "    cars.append(Cars(name = df.iloc[i]['name'], brand = df.iloc[i]['car'], year = df.iloc[i]['year'], number = df.iloc[i]['number'], color = df.iloc[i]['color']))\n",
    "\n",
    "\"\"\" Происходит сортировка выбором списка cars, засечение времени сортировки и \n",
    "запись отсортированной таблицы в файл choice5000.xlsx \"\"\"\n",
    "dfres = pd.DataFrame(columns = ['name', 'brand', 'year', 'number', 'color'])\n",
    "tic = time()\n",
    "res = choice(cars)\n",
    "toc = time()\n",
    "choices_time.append(toc-tic)\n",
    "for i in range(len(res)):\n",
    "    dfres.loc[i] = [res[i].name, res[i].brand, res[i].year, res[i].number, res[i].color]\n",
    "dfres.to_excel('choice5000.xlsx')\n",
    "\n",
    "\"\"\" Происходит быстрая сортировка списка cars, засечение времени сортировки и \n",
    "запись отсортированной таблицы в файл quick5000.xlsx \"\"\"\n",
    "dfres = pd.DataFrame(columns = ['name', 'brand', 'year', 'number', 'color'])\n",
    "tic = time()\n",
    "res = quick(cars)\n",
    "toc = time()\n",
    "quick_time.append(toc-tic)\n",
    "for i in range(len(res)):\n",
    "    dfres.loc[i] = [res[i].name, res[i].brand, res[i].year, res[i].number, res[i].color]\n",
    "dfres.to_excel('quick5000.xlsx')\n",
    "\n",
    "\"\"\" Происходит сортировка слиянием списка cars, засечение времени сортировки и \n",
    "запись отсортированной таблицы в файл merge5000.xlsx \"\"\"\n",
    "dfres = pd.DataFrame(columns = ['name', 'brand', 'year', 'number', 'color'])\n",
    "tic = time()\n",
    "res = merge(cars)\n",
    "toc = time()\n",
    "merge_time.append(toc-tic)\n",
    "for i in range(len(res)):\n",
    "    dfres.loc[i] = [res[i].name, res[i].brand, res[i].year, res[i].number, res[i].color]\n",
    "dfres.to_excel('merge5000.xlsx')"
   ]
  },
  {
   "cell_type": "markdown",
   "metadata": {},
   "source": [
    "## n=10.000 "
   ]
  },
  {
   "cell_type": "code",
   "execution_count": 12,
   "metadata": {},
   "outputs": [],
   "source": [
    "\"\"\" В таблицу df записываются данные из df10000.xlsx.\n",
    "Создается список cars объектов класса Cars, данные для которых берутся из таблицы df. \"\"\"\n",
    "df = pd.DataFrame()\n",
    "df = pd.read_excel('df10000.xlsx')\n",
    "cars = []\n",
    "for i in range(10000):\n",
    "    cars.append(Cars(name = df.iloc[i]['name'], brand = df.iloc[i]['car'], year = df.iloc[i]['year'], number = df.iloc[i]['number'], color = df.iloc[i]['color']))\n",
    "\n",
    "\"\"\" Происходит сортировка выбором списка cars, засечение времени сортировки и \n",
    "запись отсортированной таблицы в файл choice10000.xlsx \"\"\"\n",
    "dfres = pd.DataFrame(columns = ['name', 'brand', 'year', 'number', 'color'])\n",
    "tic = time()\n",
    "res = choice(cars)\n",
    "toc = time()\n",
    "choices_time.append(toc-tic)\n",
    "for i in range(len(res)):\n",
    "    dfres.loc[i] = [res[i].name, res[i].brand, res[i].year, res[i].number, res[i].color]\n",
    "dfres.to_excel('choice10000.xlsx')\n",
    "\n",
    "\"\"\" Происходит быстрая сортировка списка cars, засечение времени сортировки и \n",
    "запись отсортированной таблицы в файл quick10000.xlsx \"\"\"\n",
    "dfres = pd.DataFrame(columns = ['name', 'brand', 'year', 'number', 'color'])\n",
    "tic = time()\n",
    "res = quick(cars)\n",
    "toc = time()\n",
    "quick_time.append(toc-tic)\n",
    "for i in range(len(res)):\n",
    "    dfres.loc[i] = [res[i].name, res[i].brand, res[i].year, res[i].number, res[i].color]\n",
    "dfres.to_excel('quick10000.xlsx')\n",
    "\n",
    "\"\"\" Происходит сортировка слиянием списка cars, засечение времени сортировки и \n",
    "запись отсортированной таблицы в файл merge10000.xlsx \"\"\"\n",
    "dfres = pd.DataFrame(columns = ['name', 'brand', 'year', 'number', 'color'])\n",
    "tic = time()\n",
    "res = merge(cars)\n",
    "toc = time()\n",
    "merge_time.append(toc-tic)\n",
    "for i in range(len(res)):\n",
    "    dfres.loc[i] = [res[i].name, res[i].brand, res[i].year, res[i].number, res[i].color]\n",
    "dfres.to_excel('merge10000.xlsx')"
   ]
  },
  {
   "cell_type": "markdown",
   "metadata": {},
   "source": [
    "## n=50.000 "
   ]
  },
  {
   "cell_type": "code",
   "execution_count": 16,
   "metadata": {},
   "outputs": [],
   "source": [
    "\"\"\" В таблицу df записываются данные из df50000.xlsx.\n",
    "Создается список cars объектов класса Cars, данные для которых берутся из таблицы df. \"\"\"\n",
    "df = pd.DataFrame()\n",
    "df = pd.read_excel('df50000.xlsx')\n",
    "cars = []\n",
    "for i in range(50000):\n",
    "    cars.append(Cars(name = df.iloc[i]['name'], brand = df.iloc[i]['car'], year = df.iloc[i]['year'], number = df.iloc[i]['number'], color = df.iloc[i]['color']))\n",
    "\n",
    "\"\"\" Происходит сортировка выбором списка cars, засечение времени сортировки и \n",
    "запись отсортированной таблицы в файл choice50000.xlsx \"\"\"\n",
    "dfres = pd.DataFrame(columns = ['name', 'brand', 'year', 'number', 'color'])\n",
    "tic = time()\n",
    "res = choice(cars)\n",
    "toc = time()\n",
    "choices_time.append(toc-tic)\n",
    "for i in range(len(res)):\n",
    "    dfres.loc[i] = [res[i].name, res[i].brand, res[i].year, res[i].number, res[i].color]\n",
    "dfres.to_excel('choice50000.xlsx')\n",
    "\n",
    "\"\"\" Происходит быстрая сортировка списка cars, засечение времени сортировки и \n",
    "запись отсортированной таблицы в файл quick50000.xlsx \"\"\"\n",
    "dfres = pd.DataFrame(columns = ['name', 'brand', 'year', 'number', 'color'])\n",
    "tic = time()\n",
    "res = quick(cars)\n",
    "toc = time()\n",
    "quick_time.append(toc-tic)\n",
    "for i in range(len(res)):\n",
    "    dfres.loc[i] = [res[i].name, res[i].brand, res[i].year, res[i].number, res[i].color]\n",
    "dfres.to_excel('quick50000.xlsx')\n",
    "\n",
    "\"\"\" Происходит сортировка слиянием списка cars, засечение времени сортировки и \n",
    "запись отсортированной таблицы в файл merge50000.xlsx \"\"\"\n",
    "dfres = pd.DataFrame(columns = ['name', 'brand', 'year', 'number', 'color'])\n",
    "tic = time()\n",
    "res = merge(cars)\n",
    "toc = time()\n",
    "merge_time.append(toc-tic)\n",
    "for i in range(len(res)):\n",
    "    dfres.loc[i] = [res[i].name, res[i].brand, res[i].year, res[i].number, res[i].color]\n",
    "dfres.to_excel('merge50000.xlsx')"
   ]
  },
  {
   "cell_type": "markdown",
   "metadata": {},
   "source": [
    "## n=100.000 "
   ]
  },
  {
   "cell_type": "code",
   "execution_count": 17,
   "metadata": {},
   "outputs": [],
   "source": [
    "\"\"\" В таблицу df записываются данные из df100000.xlsx.\n",
    "Создается список cars объектов класса Cars, данные для которых берутся из таблицы df. \"\"\"\n",
    "df = pd.DataFrame()\n",
    "df = pd.read_excel('df100000.xlsx')\n",
    "cars = []\n",
    "for i in range(100000):\n",
    "    cars.append(Cars(name = df.iloc[i]['name'], brand = df.iloc[i]['car'], year = df.iloc[i]['year'], number = df.iloc[i]['number'], color = df.iloc[i]['color']))\n",
    "\n",
    "\"\"\" Происходит сортировка выбором списка cars, засечение времени сортировки и \n",
    "запись отсортированной таблицы в файл choice100000.xlsx \"\"\"\n",
    "dfres = pd.DataFrame(columns = ['name', 'brand', 'year', 'number', 'color'])\n",
    "tic = time()\n",
    "res = choice(cars)\n",
    "toc = time()\n",
    "choices_time.append(toc-tic)\n",
    "for i in range(len(res)):\n",
    "    dfres.loc[i] = [res[i].name, res[i].brand, res[i].year, res[i].number, res[i].color]\n",
    "dfres.to_excel('choice100000.xlsx')\n",
    "\n",
    "\"\"\" Происходит быстрая сортировка списка cars, засечение времени сортировки и \n",
    "запись отсортированной таблицы в файл quick100000.xlsx \"\"\"\n",
    "dfres = pd.DataFrame(columns = ['name', 'brand', 'year', 'number', 'color'])\n",
    "tic = time()\n",
    "res = quick(cars)\n",
    "toc = time()\n",
    "quick_time.append(toc-tic)\n",
    "for i in range(len(res)):\n",
    "    dfres.loc[i] = [res[i].name, res[i].brand, res[i].year, res[i].number, res[i].color]\n",
    "dfres.to_excel('quick100000.xlsx')\n",
    "\n",
    "\"\"\" Происходит сортировка слиянием списка cars, засечение времени сортировки и \n",
    "запись отсортированной таблицы в файл merge100000.xlsx \"\"\"\n",
    "dfres = pd.DataFrame(columns = ['name', 'brand', 'year', 'number', 'color'])\n",
    "tic = time()\n",
    "res = merge(cars)\n",
    "toc = time()\n",
    "merge_time.append(toc-tic)\n",
    "for i in range(len(res)):\n",
    "    dfres.loc[i] = [res[i].name, res[i].brand, res[i].year, res[i].number, res[i].color]\n",
    "dfres.to_excel('merge100000.xlsx')"
   ]
  },
  {
   "cell_type": "code",
   "execution_count": 18,
   "metadata": {},
   "outputs": [
    {
     "data": {
      "text/plain": [
       "[]"
      ]
     },
     "execution_count": 18,
     "metadata": {},
     "output_type": "execute_result"
    },
    {
     "data": {
      "image/png": "[encoded data removed]",
      "text/plain": [
       "<Figure size 1440x720 with 1 Axes>"
      ]
     },
     "metadata": {
      "needs_background": "light"
     },
     "output_type": "display_data"
    }
   ],
   "source": [
    "import matplotlib.pyplot as plt\n",
    "\n",
    "\"\"\" Построение графика зависимости времени сортировок выбором, быстрой и слиянием от величины выборки \"\"\"\n",
    "fig, ax = plt.subplots(figsize=(20, 10))\n",
    "ax.plot(sizes, choices_time, label = 'сортировка выбором')\n",
    "ax.plot(sizes, quick_time, label = 'быстрая сортировка')\n",
    "ax.plot(sizes, merge_time, label = 'сортировка слиянием')\n",
    "ax.legend()\n",
    "ax.plot()"
   ]
  },
  {
   "cell_type": "code",
   "execution_count": 19,
   "metadata": {},
   "outputs": [
    {
     "data": {
      "text/plain": [
       "[]"
      ]
     },
     "execution_count": 19,
     "metadata": {},
     "output_type": "execute_result"
    },
    {
     "data": {
      "image/png": "[encoded data removed]",
      "text/plain": [
       "<Figure size 1440x720 with 1 Axes>"
      ]
     },
     "metadata": {
      "needs_background": "light"
     },
     "output_type": "display_data"
    }
   ],
   "source": [
    "\"\"\" Построение графика зависимости времени сортировок быстрой и слиянием от величины выборки \"\"\"\n",
    "fig, ax = plt.subplots(figsize=(20, 10))\n",
    "ax.plot(sizes, quick_time, label = 'быстрая сортировка')\n",
    "ax.plot(sizes, merge_time, label = 'сортировка слиянием')\n",
    "ax.legend(loc='lower right')\n",
    "ax.plot()"
   ]
  },
  {
   "cell_type": "code",
   "execution_count": null,
   "metadata": {},
   "outputs": [],
   "source": []
  }
 ],
 "metadata": {
  "kernelspec": {
   "display_name": "Python 3",
   "language": "python",
   "name": "python3"
  },
  "language_info": {
   "codemirror_mode": {
    "name": "ipython",
    "version": 3
   },
   "file_extension": ".py",
   "mimetype": "text/x-python",
   "name": "python",
   "nbconvert_exporter": "python",
   "pygments_lexer": "ipython3",
   "version": "3.7.3"
  }
 },
 "nbformat": 4,
 "nbformat_minor": 2
}
